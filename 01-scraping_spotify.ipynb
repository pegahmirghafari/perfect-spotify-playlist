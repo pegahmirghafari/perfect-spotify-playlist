{
 "cells": [
  {
   "cell_type": "markdown",
   "metadata": {},
   "source": [
    "## Importing libraries"
   ]
  },
  {
   "cell_type": "code",
   "execution_count": 1,
   "metadata": {
    "scrolled": true
   },
   "outputs": [],
   "source": [
    "import os\n",
    "import sys\n",
    "import json\n",
    "import spotipy\n",
    "import requests\n",
    "import pandas as pd\n",
    "from math import ceil\n",
    "import spotipy.util as util\n",
    "from spotipy.oauth2 import SpotifyClientCredentials"
   ]
  },
  {
   "cell_type": "markdown",
   "metadata": {},
   "source": [
    "### first thing's first: \n",
    "#### 1. you need to created an app on spotify developer, that is where you will get your client Id and secret.\n",
    "#### 2. the app is also where you will enter your redirect uri.\n",
    "    just enter a localhost for your base url, and for your route use a 8080 port (or a port that you are nor currently using could be 5000, 8888, ...)\n",
    "#### 3. best thing to do is to create envirement variables with those informations (client_id. client_secret and the redirect_uri)\n",
    "    I also created an envirement variable with my spotify username uri\n",
    "    To find your spotify username uri, go to your spotify profile> under share profile > choose spotify uri > then take away the spotify:user: at the begibing of the giberish code. \n",
    "    That giberish code is your spotify username uri, create an envirement with that**\n",
    "#### 4. using spotipy library we can request our credentials \n",
    "    to request a token we will need:\n",
    "       1. a scope \n",
    "       2. the env variables we have created\n",
    "\n",
    "#### 5. using the spotipy library we can request a token, and authenticate it as well, by calling our function.\n",
    "      Make sure to save the token as a global variable so you can use it outside the function"
   ]
  },
  {
   "cell_type": "code",
   "execution_count": 3,
   "metadata": {
    "scrolled": true
   },
   "outputs": [],
   "source": [
    "def get_token(scope=None):\n",
    "    \n",
    "    redirect_uri = os.environ['SPOTIPY_REDIRECT_URI']\n",
    "    username = os.environ['SPOTIPY_USERNAME']\n",
    "    client_id = os.environ['SPOTIPY_CLIENT_ID']\n",
    "    client_secret = os.environ['SPOTIPY_CLIENT_SECRET']\n",
    "    token = util.prompt_for_user_token(username, scope, client_id, client_secret, redirect_uri)\n",
    "    return token\n",
    "\n",
    "token = get_token(scope='user-library-read')\n",
    "sp = spotipy.Spotify(auth=token)"
   ]
  },
  {
   "cell_type": "markdown",
   "metadata": {},
   "source": [
    "#### 6. now that we have our token,  authentication, and scope, we can access our liked song library\n",
    "*although you could use spotipy to access the liked library, I found using request and json to be easier.*"
   ]
  },
  {
   "cell_type": "code",
   "execution_count": 4,
   "metadata": {
    "scrolled": true
   },
   "outputs": [
    {
     "name": "stdout",
     "output_type": "stream",
     "text": [
      "Total number of songs: 1973\n"
     ]
    }
   ],
   "source": [
    "url = \"https://api.spotify.com/v1/me/tracks\"\n",
    "headers = {'Authorization': \"Bearer {}\".format(token)}\n",
    "r = requests.get(url, headers=headers)\n",
    "parsed = json.loads(r.text)\n",
    "\n",
    "count_songs = parsed[\"total\"]\n",
    "print (\"Total number of songs: {}\".format(count_songs))"
   ]
  },
  {
   "cell_type": "markdown",
   "metadata": {},
   "source": [
    "#### 7. now it's one thing to access the library, and another to scrape, using spotify API you can scrape 50 songs at a time, and you could reset the offset, to grab unlimited amount of songs\n",
    "*using a ceil variable, you can write a loop that will reset the offset automatically.* \n",
    "* once again i used reguest and json to scrape my liked library."
   ]
  },
  {
   "cell_type": "code",
   "execution_count": null,
   "metadata": {
    "scrolled": true
   },
   "outputs": [],
   "source": [
    "all_songs = []\n",
    "for i in range(int(ceil(count_songs/50.0))):\n",
    "    offset = 50*i\n",
    "    url = \"https://api.spotify.com/v1/me/tracks?limit=50&offset={}\".format(offset)\n",
    "    headers = {'Authorization': \"Bearer {}\".format(token)}\n",
    "    r = requests.get(url, headers=headers)\n",
    "    parsed = json.loads(r.text)\n",
    "\n",
    "    all_songs.extend(parsed[\"items\"])\n",
    "print (\"Number of gathered songs: {}\".format(len(all_songs)))"
   ]
  },
  {
   "cell_type": "code",
   "execution_count": null,
   "metadata": {},
   "outputs": [],
   "source": [
    "all_songs[:1]"
   ]
  },
  {
   "cell_type": "markdown",
   "metadata": {},
   "source": [
    "#### 8. the information I grabbed is a list of lists of dicts. I only need the 'track' information, so I will isolate that"
   ]
  },
  {
   "cell_type": "code",
   "execution_count": null,
   "metadata": {
    "scrolled": true
   },
   "outputs": [],
   "source": [
    "liked_songs= []\n",
    "for song in all_songs:\n",
    "    song_id = song['track']\n",
    "    liked_songs.append(song_id)\n",
    "print (\"Number of song_ids: {}\".format(len(liked_songs)))"
   ]
  },
  {
   "cell_type": "code",
   "execution_count": null,
   "metadata": {},
   "outputs": [],
   "source": [
    "liked_songs"
   ]
  },
  {
   "cell_type": "markdown",
   "metadata": {},
   "source": [
    "#### 9. now I will be creating a list of the song id's so I can later use it as my dataframe's index"
   ]
  },
  {
   "cell_type": "code",
   "execution_count": null,
   "metadata": {
    "scrolled": true
   },
   "outputs": [],
   "source": [
    "song_ids= []\n",
    "for song in liked_songs:\n",
    "    song_id = song['id']\n",
    "    song_ids.append(song_id)\n",
    "print (\"Number of song_ids: {}\".format(len(song_ids)))\n",
    "song_ids[:1]"
   ]
  },
  {
   "cell_type": "markdown",
   "metadata": {},
   "source": [
    "#### 10. while i'm at it i will create a dataframe, by putting then names of the songs, and the  the id's"
   ]
  },
  {
   "cell_type": "code",
   "execution_count": 21,
   "metadata": {
    "scrolled": true
   },
   "outputs": [
    {
     "data": {
      "text/html": [
       "<div>\n",
       "<style scoped>\n",
       "    .dataframe tbody tr th:only-of-type {\n",
       "        vertical-align: middle;\n",
       "    }\n",
       "\n",
       "    .dataframe tbody tr th {\n",
       "        vertical-align: top;\n",
       "    }\n",
       "\n",
       "    .dataframe thead th {\n",
       "        text-align: right;\n",
       "    }\n",
       "</style>\n",
       "<table border=\"1\" class=\"dataframe\">\n",
       "  <thead>\n",
       "    <tr style=\"text-align: right;\">\n",
       "      <th></th>\n",
       "      <th>name</th>\n",
       "    </tr>\n",
       "  </thead>\n",
       "  <tbody>\n",
       "    <tr>\n",
       "      <th>75nN4kH1uzSsUdMrdUVfrq</th>\n",
       "      <td>Siren 042</td>\n",
       "    </tr>\n",
       "    <tr>\n",
       "      <th>71GBQ7iVnffAGkNuTDxCoH</th>\n",
       "      <td>Make Me A Song</td>\n",
       "    </tr>\n",
       "    <tr>\n",
       "      <th>4VqPOruhp5EdPBeR92t6lQ</th>\n",
       "      <td>Uprising</td>\n",
       "    </tr>\n",
       "    <tr>\n",
       "      <th>2takcwOaAZWiXQijPHIx7B</th>\n",
       "      <td>Time Is Running Out</td>\n",
       "    </tr>\n",
       "    <tr>\n",
       "      <th>7ouMYWpwJ422jRcDASZB7P</th>\n",
       "      <td>Knights of Cydonia</td>\n",
       "    </tr>\n",
       "  </tbody>\n",
       "</table>\n",
       "</div>"
      ],
      "text/plain": [
       "                                       name\n",
       "75nN4kH1uzSsUdMrdUVfrq            Siren 042\n",
       "71GBQ7iVnffAGkNuTDxCoH       Make Me A Song\n",
       "4VqPOruhp5EdPBeR92t6lQ             Uprising\n",
       "2takcwOaAZWiXQijPHIx7B  Time Is Running Out\n",
       "7ouMYWpwJ422jRcDASZB7P   Knights of Cydonia"
      ]
     },
     "execution_count": 21,
     "metadata": {},
     "output_type": "execute_result"
    }
   ],
   "source": [
    "df_song_info = pd.DataFrame(liked_songs, columns=['name'], index=song_ids)\n",
    "df_song_info.head()"
   ]
  },
  {
   "cell_type": "code",
   "execution_count": 20,
   "metadata": {},
   "outputs": [
    {
     "data": {
      "text/plain": [
       "(1973, 1)"
      ]
     },
     "execution_count": 20,
     "metadata": {},
     "output_type": "execute_result"
    }
   ],
   "source": [
    "df_song_info.shape"
   ]
  },
  {
   "cell_type": "markdown",
   "metadata": {},
   "source": [
    "     at the time I scraped my liked songs I had 1973 songs!"
   ]
  },
  {
   "cell_type": "markdown",
   "metadata": {},
   "source": [
    "#### 11. Once I had my data frame I decided that I need the name of the artists as well, so I created a list, I will add them to my dataframe next\n"
   ]
  },
  {
   "cell_type": "code",
   "execution_count": null,
   "metadata": {
    "scrolled": true
   },
   "outputs": [],
   "source": [
    "songs_artits=[]\n",
    "for song in liked_songs:\n",
    "    artist= song['artists'][0]['name']\n",
    "    \n",
    "    songs_artits.append(artist)\n",
    "print (\"Number of song_ids: {}\".format(len(songs_artits))) \n",
    "songs_artits[:1]"
   ]
  },
  {
   "cell_type": "markdown",
   "metadata": {},
   "source": [
    "***here is a dataframe of the artists, there is a much easier way of creating a dataframe, but I had decided later that i need the artist name as well, so here is this dataframe now!*** "
   ]
  },
  {
   "cell_type": "code",
   "execution_count": null,
   "metadata": {
    "scrolled": true
   },
   "outputs": [],
   "source": [
    "df_song = pd.DataFrame(songs_artits, columns=['artists'], index=song_ids)\n",
    "df_song.head()"
   ]
  },
  {
   "cell_type": "code",
   "execution_count": 23,
   "metadata": {},
   "outputs": [
    {
     "data": {
      "text/html": [
       "<div>\n",
       "<style scoped>\n",
       "    .dataframe tbody tr th:only-of-type {\n",
       "        vertical-align: middle;\n",
       "    }\n",
       "\n",
       "    .dataframe tbody tr th {\n",
       "        vertical-align: top;\n",
       "    }\n",
       "\n",
       "    .dataframe thead th {\n",
       "        text-align: right;\n",
       "    }\n",
       "</style>\n",
       "<table border=\"1\" class=\"dataframe\">\n",
       "  <thead>\n",
       "    <tr style=\"text-align: right;\">\n",
       "      <th></th>\n",
       "      <th>artists</th>\n",
       "    </tr>\n",
       "  </thead>\n",
       "  <tbody>\n",
       "    <tr>\n",
       "      <th>75nN4kH1uzSsUdMrdUVfrq</th>\n",
       "      <td>Lala Lala</td>\n",
       "    </tr>\n",
       "    <tr>\n",
       "      <th>71GBQ7iVnffAGkNuTDxCoH</th>\n",
       "      <td>Eleanor Friedberger</td>\n",
       "    </tr>\n",
       "    <tr>\n",
       "      <th>4VqPOruhp5EdPBeR92t6lQ</th>\n",
       "      <td>Muse</td>\n",
       "    </tr>\n",
       "    <tr>\n",
       "      <th>2takcwOaAZWiXQijPHIx7B</th>\n",
       "      <td>Muse</td>\n",
       "    </tr>\n",
       "    <tr>\n",
       "      <th>7ouMYWpwJ422jRcDASZB7P</th>\n",
       "      <td>Muse</td>\n",
       "    </tr>\n",
       "  </tbody>\n",
       "</table>\n",
       "</div>"
      ],
      "text/plain": [
       "                                    artists\n",
       "75nN4kH1uzSsUdMrdUVfrq            Lala Lala\n",
       "71GBQ7iVnffAGkNuTDxCoH  Eleanor Friedberger\n",
       "4VqPOruhp5EdPBeR92t6lQ                 Muse\n",
       "2takcwOaAZWiXQijPHIx7B                 Muse\n",
       "7ouMYWpwJ422jRcDASZB7P                 Muse"
      ]
     },
     "execution_count": 23,
     "metadata": {},
     "output_type": "execute_result"
    }
   ],
   "source": [
    "df_song.head()"
   ]
  },
  {
   "cell_type": "markdown",
   "metadata": {},
   "source": [
    "#### 12. once again we need to using sotipy library, we will grab track features on the songs already have all we need are the song Id to lookd for them. \n",
    "***the great thing about this library and api is that it auto sleeps, so you will not overwhelm the server!***"
   ]
  },
  {
   "cell_type": "code",
   "execution_count": null,
   "metadata": {
    "scrolled": true
   },
   "outputs": [],
   "source": [
    "feature_songs=[]\n",
    "for song_id in song_ids: \n",
    "    try: \n",
    "        analysis = sp.audio_features(song_id)\n",
    "        feature_songs.append(analysis)\n",
    "    except: \n",
    "        print(song_id)"
   ]
  },
  {
   "cell_type": "markdown",
   "metadata": {},
   "source": [
    "#### 13. so the features come in a list of lists of dics (once again) but this time I was smart about it, I wrote a loop to get the key and value pairs of each dicts,  \n",
    "***keys are going to serve as the columns later, and the values are the data I am collecting on the songs***"
   ]
  },
  {
   "cell_type": "code",
   "execution_count": null,
   "metadata": {
    "scrolled": true
   },
   "outputs": [],
   "source": [
    "both =[]\n",
    "lis_of_features=[]\n",
    "list_of_info =[]\n",
    "for lists in feature_songs:\n",
    "    for dict_list in lists:\n",
    "        both.append(dict_list.items())\n",
    "        lis_of_features.append(dict_list.keys())\n",
    "        list_of_info.append(dict_list.values())"
   ]
  },
  {
   "cell_type": "markdown",
   "metadata": {},
   "source": [
    "#### 14 well, here are the name of the columns (aka the dict keys):"
   ]
  },
  {
   "cell_type": "code",
   "execution_count": 15,
   "metadata": {
    "collapsed": true,
    "scrolled": true
   },
   "outputs": [],
   "source": [
    "cols = ['danceability', 'energy', 'key', 'loudness', 'mode', 'speechiness', 'acousticness', 'instrumentalness', 'liveness', 'valence', 'tempo', 'type', 'id', 'uri', 'track_href', 'analysis_url', 'duration_ms', 'time_signature']"
   ]
  },
  {
   "cell_type": "markdown",
   "metadata": {},
   "source": [
    "#### 15. now we are going to put the key-value pairs together to create a dataframe, and remmeber the list of song Id's we had made earlier, well, it's our index now!"
   ]
  },
  {
   "cell_type": "code",
   "execution_count": 27,
   "metadata": {
    "scrolled": true
   },
   "outputs": [],
   "source": [
    "features = pd.DataFrame(list_of_info, columns=cols,index=song_ids)"
   ]
  },
  {
   "cell_type": "code",
   "execution_count": 28,
   "metadata": {
    "scrolled": true
   },
   "outputs": [
    {
     "data": {
      "text/plain": [
       "(1973, 18)"
      ]
     },
     "execution_count": 28,
     "metadata": {},
     "output_type": "execute_result"
    }
   ],
   "source": [
    "features.shape"
   ]
  },
  {
   "cell_type": "markdown",
   "metadata": {},
   "source": [
    "#### 16. lastly concadinate the dataframes ***artist name and Id** , ***artist and id*** , and ***features*** \n",
    "***I will save this datafraem as an output because I DO NOT WANT TO HAVE TO DO THIS ALL OVER AGAIN!***"
   ]
  },
  {
   "cell_type": "code",
   "execution_count": 29,
   "metadata": {
    "scrolled": true
   },
   "outputs": [
    {
     "data": {
      "text/html": [
       "<div>\n",
       "<style scoped>\n",
       "    .dataframe tbody tr th:only-of-type {\n",
       "        vertical-align: middle;\n",
       "    }\n",
       "\n",
       "    .dataframe tbody tr th {\n",
       "        vertical-align: top;\n",
       "    }\n",
       "\n",
       "    .dataframe thead th {\n",
       "        text-align: right;\n",
       "    }\n",
       "</style>\n",
       "<table border=\"1\" class=\"dataframe\">\n",
       "  <thead>\n",
       "    <tr style=\"text-align: right;\">\n",
       "      <th></th>\n",
       "      <th>name</th>\n",
       "      <th>artists</th>\n",
       "      <th>danceability</th>\n",
       "      <th>energy</th>\n",
       "      <th>key</th>\n",
       "      <th>loudness</th>\n",
       "      <th>mode</th>\n",
       "      <th>speechiness</th>\n",
       "      <th>acousticness</th>\n",
       "      <th>instrumentalness</th>\n",
       "      <th>liveness</th>\n",
       "      <th>valence</th>\n",
       "      <th>tempo</th>\n",
       "      <th>type</th>\n",
       "      <th>id</th>\n",
       "      <th>uri</th>\n",
       "      <th>track_href</th>\n",
       "      <th>analysis_url</th>\n",
       "      <th>duration_ms</th>\n",
       "      <th>time_signature</th>\n",
       "    </tr>\n",
       "  </thead>\n",
       "  <tbody>\n",
       "    <tr>\n",
       "      <th>75nN4kH1uzSsUdMrdUVfrq</th>\n",
       "      <td>Siren 042</td>\n",
       "      <td>Lala Lala</td>\n",
       "      <td>0.601</td>\n",
       "      <td>0.596</td>\n",
       "      <td>11</td>\n",
       "      <td>-7.373</td>\n",
       "      <td>1</td>\n",
       "      <td>0.0251</td>\n",
       "      <td>0.694000</td>\n",
       "      <td>0.00579</td>\n",
       "      <td>0.1070</td>\n",
       "      <td>0.457</td>\n",
       "      <td>108.000</td>\n",
       "      <td>audio_features</td>\n",
       "      <td>75nN4kH1uzSsUdMrdUVfrq</td>\n",
       "      <td>spotify:track:75nN4kH1uzSsUdMrdUVfrq</td>\n",
       "      <td>https://api.spotify.com/v1/tracks/75nN4kH1uzSs...</td>\n",
       "      <td>https://api.spotify.com/v1/audio-analysis/75nN...</td>\n",
       "      <td>161043</td>\n",
       "      <td>4</td>\n",
       "    </tr>\n",
       "    <tr>\n",
       "      <th>71GBQ7iVnffAGkNuTDxCoH</th>\n",
       "      <td>Make Me A Song</td>\n",
       "      <td>Eleanor Friedberger</td>\n",
       "      <td>0.727</td>\n",
       "      <td>0.575</td>\n",
       "      <td>2</td>\n",
       "      <td>-8.295</td>\n",
       "      <td>1</td>\n",
       "      <td>0.0292</td>\n",
       "      <td>0.054800</td>\n",
       "      <td>0.01310</td>\n",
       "      <td>0.1230</td>\n",
       "      <td>0.622</td>\n",
       "      <td>129.993</td>\n",
       "      <td>audio_features</td>\n",
       "      <td>71GBQ7iVnffAGkNuTDxCoH</td>\n",
       "      <td>spotify:track:71GBQ7iVnffAGkNuTDxCoH</td>\n",
       "      <td>https://api.spotify.com/v1/tracks/71GBQ7iVnffA...</td>\n",
       "      <td>https://api.spotify.com/v1/audio-analysis/71GB...</td>\n",
       "      <td>332400</td>\n",
       "      <td>4</td>\n",
       "    </tr>\n",
       "    <tr>\n",
       "      <th>4VqPOruhp5EdPBeR92t6lQ</th>\n",
       "      <td>Uprising</td>\n",
       "      <td>Muse</td>\n",
       "      <td>0.602</td>\n",
       "      <td>0.905</td>\n",
       "      <td>2</td>\n",
       "      <td>-4.046</td>\n",
       "      <td>1</td>\n",
       "      <td>0.0775</td>\n",
       "      <td>0.000202</td>\n",
       "      <td>0.06400</td>\n",
       "      <td>0.1170</td>\n",
       "      <td>0.411</td>\n",
       "      <td>128.019</td>\n",
       "      <td>audio_features</td>\n",
       "      <td>4VqPOruhp5EdPBeR92t6lQ</td>\n",
       "      <td>spotify:track:4VqPOruhp5EdPBeR92t6lQ</td>\n",
       "      <td>https://api.spotify.com/v1/tracks/4VqPOruhp5Ed...</td>\n",
       "      <td>https://api.spotify.com/v1/audio-analysis/4VqP...</td>\n",
       "      <td>304840</td>\n",
       "      <td>4</td>\n",
       "    </tr>\n",
       "    <tr>\n",
       "      <th>2takcwOaAZWiXQijPHIx7B</th>\n",
       "      <td>Time Is Running Out</td>\n",
       "      <td>Muse</td>\n",
       "      <td>0.585</td>\n",
       "      <td>0.842</td>\n",
       "      <td>9</td>\n",
       "      <td>-5.883</td>\n",
       "      <td>0</td>\n",
       "      <td>0.0556</td>\n",
       "      <td>0.002420</td>\n",
       "      <td>0.00686</td>\n",
       "      <td>0.0866</td>\n",
       "      <td>0.428</td>\n",
       "      <td>118.211</td>\n",
       "      <td>audio_features</td>\n",
       "      <td>2takcwOaAZWiXQijPHIx7B</td>\n",
       "      <td>spotify:track:2takcwOaAZWiXQijPHIx7B</td>\n",
       "      <td>https://api.spotify.com/v1/tracks/2takcwOaAZWi...</td>\n",
       "      <td>https://api.spotify.com/v1/audio-analysis/2tak...</td>\n",
       "      <td>237040</td>\n",
       "      <td>4</td>\n",
       "    </tr>\n",
       "    <tr>\n",
       "      <th>7ouMYWpwJ422jRcDASZB7P</th>\n",
       "      <td>Knights of Cydonia</td>\n",
       "      <td>Muse</td>\n",
       "      <td>0.366</td>\n",
       "      <td>0.963</td>\n",
       "      <td>11</td>\n",
       "      <td>-5.301</td>\n",
       "      <td>0</td>\n",
       "      <td>0.1420</td>\n",
       "      <td>0.000273</td>\n",
       "      <td>0.01220</td>\n",
       "      <td>0.1150</td>\n",
       "      <td>0.211</td>\n",
       "      <td>137.114</td>\n",
       "      <td>audio_features</td>\n",
       "      <td>7ouMYWpwJ422jRcDASZB7P</td>\n",
       "      <td>spotify:track:7ouMYWpwJ422jRcDASZB7P</td>\n",
       "      <td>https://api.spotify.com/v1/tracks/7ouMYWpwJ422...</td>\n",
       "      <td>https://api.spotify.com/v1/audio-analysis/7ouM...</td>\n",
       "      <td>366213</td>\n",
       "      <td>4</td>\n",
       "    </tr>\n",
       "  </tbody>\n",
       "</table>\n",
       "</div>"
      ],
      "text/plain": [
       "                                       name              artists  \\\n",
       "75nN4kH1uzSsUdMrdUVfrq            Siren 042            Lala Lala   \n",
       "71GBQ7iVnffAGkNuTDxCoH       Make Me A Song  Eleanor Friedberger   \n",
       "4VqPOruhp5EdPBeR92t6lQ             Uprising                 Muse   \n",
       "2takcwOaAZWiXQijPHIx7B  Time Is Running Out                 Muse   \n",
       "7ouMYWpwJ422jRcDASZB7P   Knights of Cydonia                 Muse   \n",
       "\n",
       "                        danceability  energy  key  loudness  mode  \\\n",
       "75nN4kH1uzSsUdMrdUVfrq         0.601   0.596   11    -7.373     1   \n",
       "71GBQ7iVnffAGkNuTDxCoH         0.727   0.575    2    -8.295     1   \n",
       "4VqPOruhp5EdPBeR92t6lQ         0.602   0.905    2    -4.046     1   \n",
       "2takcwOaAZWiXQijPHIx7B         0.585   0.842    9    -5.883     0   \n",
       "7ouMYWpwJ422jRcDASZB7P         0.366   0.963   11    -5.301     0   \n",
       "\n",
       "                        speechiness  acousticness  instrumentalness  liveness  \\\n",
       "75nN4kH1uzSsUdMrdUVfrq       0.0251      0.694000           0.00579    0.1070   \n",
       "71GBQ7iVnffAGkNuTDxCoH       0.0292      0.054800           0.01310    0.1230   \n",
       "4VqPOruhp5EdPBeR92t6lQ       0.0775      0.000202           0.06400    0.1170   \n",
       "2takcwOaAZWiXQijPHIx7B       0.0556      0.002420           0.00686    0.0866   \n",
       "7ouMYWpwJ422jRcDASZB7P       0.1420      0.000273           0.01220    0.1150   \n",
       "\n",
       "                        valence    tempo            type  \\\n",
       "75nN4kH1uzSsUdMrdUVfrq    0.457  108.000  audio_features   \n",
       "71GBQ7iVnffAGkNuTDxCoH    0.622  129.993  audio_features   \n",
       "4VqPOruhp5EdPBeR92t6lQ    0.411  128.019  audio_features   \n",
       "2takcwOaAZWiXQijPHIx7B    0.428  118.211  audio_features   \n",
       "7ouMYWpwJ422jRcDASZB7P    0.211  137.114  audio_features   \n",
       "\n",
       "                                            id  \\\n",
       "75nN4kH1uzSsUdMrdUVfrq  75nN4kH1uzSsUdMrdUVfrq   \n",
       "71GBQ7iVnffAGkNuTDxCoH  71GBQ7iVnffAGkNuTDxCoH   \n",
       "4VqPOruhp5EdPBeR92t6lQ  4VqPOruhp5EdPBeR92t6lQ   \n",
       "2takcwOaAZWiXQijPHIx7B  2takcwOaAZWiXQijPHIx7B   \n",
       "7ouMYWpwJ422jRcDASZB7P  7ouMYWpwJ422jRcDASZB7P   \n",
       "\n",
       "                                                         uri  \\\n",
       "75nN4kH1uzSsUdMrdUVfrq  spotify:track:75nN4kH1uzSsUdMrdUVfrq   \n",
       "71GBQ7iVnffAGkNuTDxCoH  spotify:track:71GBQ7iVnffAGkNuTDxCoH   \n",
       "4VqPOruhp5EdPBeR92t6lQ  spotify:track:4VqPOruhp5EdPBeR92t6lQ   \n",
       "2takcwOaAZWiXQijPHIx7B  spotify:track:2takcwOaAZWiXQijPHIx7B   \n",
       "7ouMYWpwJ422jRcDASZB7P  spotify:track:7ouMYWpwJ422jRcDASZB7P   \n",
       "\n",
       "                                                               track_href  \\\n",
       "75nN4kH1uzSsUdMrdUVfrq  https://api.spotify.com/v1/tracks/75nN4kH1uzSs...   \n",
       "71GBQ7iVnffAGkNuTDxCoH  https://api.spotify.com/v1/tracks/71GBQ7iVnffA...   \n",
       "4VqPOruhp5EdPBeR92t6lQ  https://api.spotify.com/v1/tracks/4VqPOruhp5Ed...   \n",
       "2takcwOaAZWiXQijPHIx7B  https://api.spotify.com/v1/tracks/2takcwOaAZWi...   \n",
       "7ouMYWpwJ422jRcDASZB7P  https://api.spotify.com/v1/tracks/7ouMYWpwJ422...   \n",
       "\n",
       "                                                             analysis_url  \\\n",
       "75nN4kH1uzSsUdMrdUVfrq  https://api.spotify.com/v1/audio-analysis/75nN...   \n",
       "71GBQ7iVnffAGkNuTDxCoH  https://api.spotify.com/v1/audio-analysis/71GB...   \n",
       "4VqPOruhp5EdPBeR92t6lQ  https://api.spotify.com/v1/audio-analysis/4VqP...   \n",
       "2takcwOaAZWiXQijPHIx7B  https://api.spotify.com/v1/audio-analysis/2tak...   \n",
       "7ouMYWpwJ422jRcDASZB7P  https://api.spotify.com/v1/audio-analysis/7ouM...   \n",
       "\n",
       "                        duration_ms  time_signature  \n",
       "75nN4kH1uzSsUdMrdUVfrq       161043               4  \n",
       "71GBQ7iVnffAGkNuTDxCoH       332400               4  \n",
       "4VqPOruhp5EdPBeR92t6lQ       304840               4  \n",
       "2takcwOaAZWiXQijPHIx7B       237040               4  \n",
       "7ouMYWpwJ422jRcDASZB7P       366213               4  "
      ]
     },
     "execution_count": 29,
     "metadata": {},
     "output_type": "execute_result"
    }
   ],
   "source": [
    "df = pd.concat([df_song_info, df_song, features], axis=1)\n",
    "df.head()"
   ]
  },
  {
   "cell_type": "code",
   "execution_count": 30,
   "metadata": {
    "scrolled": true
   },
   "outputs": [],
   "source": [
    "df.to_csv('./Data/liked_songs.csv',index=False)"
   ]
  },
  {
   "cell_type": "markdown",
   "metadata": {},
   "source": [
    "## next we will move to EDA"
   ]
  }
 ],
 "metadata": {
  "kernelspec": {
   "display_name": "Python 3",
   "language": "python",
   "name": "python3"
  },
  "language_info": {
   "codemirror_mode": {
    "name": "ipython",
    "version": 3
   },
   "file_extension": ".py",
   "mimetype": "text/x-python",
   "name": "python",
   "nbconvert_exporter": "python",
   "pygments_lexer": "ipython3",
   "version": "3.7.6"
  }
 },
 "nbformat": 4,
 "nbformat_minor": 4
}
