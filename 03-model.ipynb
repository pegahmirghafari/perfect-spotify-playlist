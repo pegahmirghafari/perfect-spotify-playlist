{
 "cells": [
  {
   "cell_type": "markdown",
   "metadata": {},
   "source": [
    "## Import libraries"
   ]
  },
  {
   "cell_type": "code",
   "execution_count": 1,
   "metadata": {
    "scrolled": true
   },
   "outputs": [],
   "source": [
    "import numpy as np\n",
    "import pandas as pd\n",
    "import seaborn as sns\n",
    "import matplotlib.pyplot as plt\n",
    "from sklearn.decomposition import TruncatedSVD\n",
    "from sklearn.preprocessing import StandardScaler\n",
    "from sklearn.feature_extraction.text import CountVectorizer\n",
    "from sklearn.metrics.pairwise import pairwise_distances, cosine_similarity"
   ]
  },
  {
   "cell_type": "code",
   "execution_count": 2,
   "metadata": {
    "scrolled": true
   },
   "outputs": [],
   "source": [
    "df = pd.read_csv('./Data/no_multiples.csv')"
   ]
  },
  {
   "cell_type": "code",
   "execution_count": 3,
   "metadata": {
    "scrolled": true
   },
   "outputs": [
    {
     "data": {
      "text/html": [
       "<div>\n",
       "<style scoped>\n",
       "    .dataframe tbody tr th:only-of-type {\n",
       "        vertical-align: middle;\n",
       "    }\n",
       "\n",
       "    .dataframe tbody tr th {\n",
       "        vertical-align: top;\n",
       "    }\n",
       "\n",
       "    .dataframe thead th {\n",
       "        text-align: right;\n",
       "    }\n",
       "</style>\n",
       "<table border=\"1\" class=\"dataframe\">\n",
       "  <thead>\n",
       "    <tr style=\"text-align: right;\">\n",
       "      <th></th>\n",
       "      <th>index</th>\n",
       "      <th>uri</th>\n",
       "      <th>tempo</th>\n",
       "      <th>danceability</th>\n",
       "      <th>energy</th>\n",
       "      <th>key</th>\n",
       "      <th>loudness</th>\n",
       "      <th>mode</th>\n",
       "      <th>speechiness</th>\n",
       "      <th>acousticness</th>\n",
       "      <th>instrumentalness</th>\n",
       "      <th>liveness</th>\n",
       "      <th>valence</th>\n",
       "      <th>time_signature</th>\n",
       "      <th>duration_ms</th>\n",
       "    </tr>\n",
       "  </thead>\n",
       "  <tbody>\n",
       "    <tr>\n",
       "      <th>0</th>\n",
       "      <td>siren 042, lala lala</td>\n",
       "      <td>spotify:track:75nN4kH1uzSsUdMrdUVfrq</td>\n",
       "      <td>108.000</td>\n",
       "      <td>0.601</td>\n",
       "      <td>0.596</td>\n",
       "      <td>11</td>\n",
       "      <td>-7.373</td>\n",
       "      <td>1</td>\n",
       "      <td>0.0251</td>\n",
       "      <td>0.694000</td>\n",
       "      <td>0.00579</td>\n",
       "      <td>0.1070</td>\n",
       "      <td>0.457</td>\n",
       "      <td>4</td>\n",
       "      <td>161043</td>\n",
       "    </tr>\n",
       "    <tr>\n",
       "      <th>1</th>\n",
       "      <td>make me a song, eleanor friedberger</td>\n",
       "      <td>spotify:track:71GBQ7iVnffAGkNuTDxCoH</td>\n",
       "      <td>129.993</td>\n",
       "      <td>0.727</td>\n",
       "      <td>0.575</td>\n",
       "      <td>2</td>\n",
       "      <td>-8.295</td>\n",
       "      <td>1</td>\n",
       "      <td>0.0292</td>\n",
       "      <td>0.054800</td>\n",
       "      <td>0.01310</td>\n",
       "      <td>0.1230</td>\n",
       "      <td>0.622</td>\n",
       "      <td>4</td>\n",
       "      <td>332400</td>\n",
       "    </tr>\n",
       "    <tr>\n",
       "      <th>2</th>\n",
       "      <td>uprising, muse</td>\n",
       "      <td>spotify:track:4VqPOruhp5EdPBeR92t6lQ</td>\n",
       "      <td>128.019</td>\n",
       "      <td>0.602</td>\n",
       "      <td>0.905</td>\n",
       "      <td>2</td>\n",
       "      <td>-4.046</td>\n",
       "      <td>1</td>\n",
       "      <td>0.0775</td>\n",
       "      <td>0.000202</td>\n",
       "      <td>0.06400</td>\n",
       "      <td>0.1170</td>\n",
       "      <td>0.411</td>\n",
       "      <td>4</td>\n",
       "      <td>304840</td>\n",
       "    </tr>\n",
       "    <tr>\n",
       "      <th>3</th>\n",
       "      <td>time is running out, muse</td>\n",
       "      <td>spotify:track:2takcwOaAZWiXQijPHIx7B</td>\n",
       "      <td>118.211</td>\n",
       "      <td>0.585</td>\n",
       "      <td>0.842</td>\n",
       "      <td>9</td>\n",
       "      <td>-5.883</td>\n",
       "      <td>0</td>\n",
       "      <td>0.0556</td>\n",
       "      <td>0.002420</td>\n",
       "      <td>0.00686</td>\n",
       "      <td>0.0866</td>\n",
       "      <td>0.428</td>\n",
       "      <td>4</td>\n",
       "      <td>237040</td>\n",
       "    </tr>\n",
       "    <tr>\n",
       "      <th>4</th>\n",
       "      <td>knights of cydonia, muse</td>\n",
       "      <td>spotify:track:7ouMYWpwJ422jRcDASZB7P</td>\n",
       "      <td>137.114</td>\n",
       "      <td>0.366</td>\n",
       "      <td>0.963</td>\n",
       "      <td>11</td>\n",
       "      <td>-5.301</td>\n",
       "      <td>0</td>\n",
       "      <td>0.1420</td>\n",
       "      <td>0.000273</td>\n",
       "      <td>0.01220</td>\n",
       "      <td>0.1150</td>\n",
       "      <td>0.211</td>\n",
       "      <td>4</td>\n",
       "      <td>366213</td>\n",
       "    </tr>\n",
       "  </tbody>\n",
       "</table>\n",
       "</div>"
      ],
      "text/plain": [
       "                                 index                                   uri  \\\n",
       "0                 siren 042, lala lala  spotify:track:75nN4kH1uzSsUdMrdUVfrq   \n",
       "1  make me a song, eleanor friedberger  spotify:track:71GBQ7iVnffAGkNuTDxCoH   \n",
       "2                       uprising, muse  spotify:track:4VqPOruhp5EdPBeR92t6lQ   \n",
       "3            time is running out, muse  spotify:track:2takcwOaAZWiXQijPHIx7B   \n",
       "4             knights of cydonia, muse  spotify:track:7ouMYWpwJ422jRcDASZB7P   \n",
       "\n",
       "     tempo  danceability  energy  key  loudness  mode  speechiness  \\\n",
       "0  108.000         0.601   0.596   11    -7.373     1       0.0251   \n",
       "1  129.993         0.727   0.575    2    -8.295     1       0.0292   \n",
       "2  128.019         0.602   0.905    2    -4.046     1       0.0775   \n",
       "3  118.211         0.585   0.842    9    -5.883     0       0.0556   \n",
       "4  137.114         0.366   0.963   11    -5.301     0       0.1420   \n",
       "\n",
       "   acousticness  instrumentalness  liveness  valence  time_signature  \\\n",
       "0      0.694000           0.00579    0.1070    0.457               4   \n",
       "1      0.054800           0.01310    0.1230    0.622               4   \n",
       "2      0.000202           0.06400    0.1170    0.411               4   \n",
       "3      0.002420           0.00686    0.0866    0.428               4   \n",
       "4      0.000273           0.01220    0.1150    0.211               4   \n",
       "\n",
       "   duration_ms  \n",
       "0       161043  \n",
       "1       332400  \n",
       "2       304840  \n",
       "3       237040  \n",
       "4       366213  "
      ]
     },
     "execution_count": 3,
     "metadata": {},
     "output_type": "execute_result"
    }
   ],
   "source": [
    "df.head()"
   ]
  },
  {
   "cell_type": "code",
   "execution_count": 4,
   "metadata": {
    "scrolled": true
   },
   "outputs": [
    {
     "data": {
      "text/plain": [
       "(1734, 15)"
      ]
     },
     "execution_count": 4,
     "metadata": {},
     "output_type": "execute_result"
    }
   ],
   "source": [
    "df.shape"
   ]
  },
  {
   "cell_type": "code",
   "execution_count": 5,
   "metadata": {
    "scrolled": true
   },
   "outputs": [
    {
     "data": {
      "text/plain": [
       "index                object\n",
       "uri                  object\n",
       "tempo               float64\n",
       "danceability        float64\n",
       "energy              float64\n",
       "key                   int64\n",
       "loudness            float64\n",
       "mode                  int64\n",
       "speechiness         float64\n",
       "acousticness        float64\n",
       "instrumentalness    float64\n",
       "liveness            float64\n",
       "valence             float64\n",
       "time_signature        int64\n",
       "duration_ms           int64\n",
       "dtype: object"
      ]
     },
     "execution_count": 5,
     "metadata": {},
     "output_type": "execute_result"
    }
   ],
   "source": [
    "df.dtypes"
   ]
  },
  {
   "cell_type": "code",
   "execution_count": 6,
   "metadata": {
    "scrolled": true
   },
   "outputs": [
    {
     "data": {
      "text/plain": [
       "Index(['index', 'uri', 'tempo', 'danceability', 'energy', 'key', 'loudness',\n",
       "       'mode', 'speechiness', 'acousticness', 'instrumentalness', 'liveness',\n",
       "       'valence', 'time_signature', 'duration_ms'],\n",
       "      dtype='object')"
      ]
     },
     "execution_count": 6,
     "metadata": {},
     "output_type": "execute_result"
    }
   ],
   "source": [
    "df.columns"
   ]
  },
  {
   "cell_type": "markdown",
   "metadata": {},
   "source": [
    "### I will save the uri column, since i need them to search and add the songs to a playlist on spotify"
   ]
  },
  {
   "cell_type": "code",
   "execution_count": 7,
   "metadata": {},
   "outputs": [],
   "source": [
    "df_id = df.drop(columns=['tempo', 'danceability', 'energy', 'key', 'loudness', 'mode',\n",
    "       'speechiness', 'acousticness', 'instrumentalness', 'liveness',\n",
    "       'valence', 'time_signature', 'duration_ms'])\n"
   ]
  },
  {
   "cell_type": "code",
   "execution_count": 8,
   "metadata": {},
   "outputs": [],
   "source": [
    "df_id.set_index('index',inplace=True)"
   ]
  },
  {
   "cell_type": "code",
   "execution_count": 9,
   "metadata": {},
   "outputs": [
    {
     "data": {
      "text/html": [
       "<div>\n",
       "<style scoped>\n",
       "    .dataframe tbody tr th:only-of-type {\n",
       "        vertical-align: middle;\n",
       "    }\n",
       "\n",
       "    .dataframe tbody tr th {\n",
       "        vertical-align: top;\n",
       "    }\n",
       "\n",
       "    .dataframe thead th {\n",
       "        text-align: right;\n",
       "    }\n",
       "</style>\n",
       "<table border=\"1\" class=\"dataframe\">\n",
       "  <thead>\n",
       "    <tr style=\"text-align: right;\">\n",
       "      <th></th>\n",
       "      <th>uri</th>\n",
       "    </tr>\n",
       "    <tr>\n",
       "      <th>index</th>\n",
       "      <th></th>\n",
       "    </tr>\n",
       "  </thead>\n",
       "  <tbody>\n",
       "    <tr>\n",
       "      <th>siren 042, lala lala</th>\n",
       "      <td>spotify:track:75nN4kH1uzSsUdMrdUVfrq</td>\n",
       "    </tr>\n",
       "    <tr>\n",
       "      <th>make me a song, eleanor friedberger</th>\n",
       "      <td>spotify:track:71GBQ7iVnffAGkNuTDxCoH</td>\n",
       "    </tr>\n",
       "    <tr>\n",
       "      <th>uprising, muse</th>\n",
       "      <td>spotify:track:4VqPOruhp5EdPBeR92t6lQ</td>\n",
       "    </tr>\n",
       "    <tr>\n",
       "      <th>time is running out, muse</th>\n",
       "      <td>spotify:track:2takcwOaAZWiXQijPHIx7B</td>\n",
       "    </tr>\n",
       "    <tr>\n",
       "      <th>knights of cydonia, muse</th>\n",
       "      <td>spotify:track:7ouMYWpwJ422jRcDASZB7P</td>\n",
       "    </tr>\n",
       "  </tbody>\n",
       "</table>\n",
       "</div>"
      ],
      "text/plain": [
       "                                                                      uri\n",
       "index                                                                    \n",
       "siren 042, lala lala                 spotify:track:75nN4kH1uzSsUdMrdUVfrq\n",
       "make me a song, eleanor friedberger  spotify:track:71GBQ7iVnffAGkNuTDxCoH\n",
       "uprising, muse                       spotify:track:4VqPOruhp5EdPBeR92t6lQ\n",
       "time is running out, muse            spotify:track:2takcwOaAZWiXQijPHIx7B\n",
       "knights of cydonia, muse             spotify:track:7ouMYWpwJ422jRcDASZB7P"
      ]
     },
     "execution_count": 9,
     "metadata": {},
     "output_type": "execute_result"
    }
   ],
   "source": [
    "df_id.head()"
   ]
  },
  {
   "cell_type": "code",
   "execution_count": 10,
   "metadata": {},
   "outputs": [],
   "source": [
    "df_id.to_csv('./Data/uri.csv', index= True)"
   ]
  },
  {
   "cell_type": "markdown",
   "metadata": {},
   "source": [
    "### on my main datafram I will set column index, which i had created earlier, as my index, and drop the uri column so i only have numeric features"
   ]
  },
  {
   "cell_type": "markdown",
   "metadata": {},
   "source": [
    "***now that I only have neumeric features I can standatd scaler my data, this assures that each column will have a μ = 0 and σ = 1, in simple english it means they are now all on the same scale!*** "
   ]
  },
  {
   "cell_type": "code",
   "execution_count": 11,
   "metadata": {
    "scrolled": true
   },
   "outputs": [],
   "source": [
    "df.set_index('index', inplace=True)\n",
    "df.drop(columns=['uri'],inplace=True)"
   ]
  },
  {
   "cell_type": "code",
   "execution_count": 12,
   "metadata": {},
   "outputs": [
    {
     "data": {
      "text/html": [
       "<div>\n",
       "<style scoped>\n",
       "    .dataframe tbody tr th:only-of-type {\n",
       "        vertical-align: middle;\n",
       "    }\n",
       "\n",
       "    .dataframe tbody tr th {\n",
       "        vertical-align: top;\n",
       "    }\n",
       "\n",
       "    .dataframe thead th {\n",
       "        text-align: right;\n",
       "    }\n",
       "</style>\n",
       "<table border=\"1\" class=\"dataframe\">\n",
       "  <thead>\n",
       "    <tr style=\"text-align: right;\">\n",
       "      <th></th>\n",
       "      <th>tempo</th>\n",
       "      <th>danceability</th>\n",
       "      <th>energy</th>\n",
       "      <th>key</th>\n",
       "      <th>loudness</th>\n",
       "      <th>mode</th>\n",
       "      <th>speechiness</th>\n",
       "      <th>acousticness</th>\n",
       "      <th>instrumentalness</th>\n",
       "      <th>liveness</th>\n",
       "      <th>valence</th>\n",
       "      <th>time_signature</th>\n",
       "      <th>duration_ms</th>\n",
       "    </tr>\n",
       "    <tr>\n",
       "      <th>index</th>\n",
       "      <th></th>\n",
       "      <th></th>\n",
       "      <th></th>\n",
       "      <th></th>\n",
       "      <th></th>\n",
       "      <th></th>\n",
       "      <th></th>\n",
       "      <th></th>\n",
       "      <th></th>\n",
       "      <th></th>\n",
       "      <th></th>\n",
       "      <th></th>\n",
       "      <th></th>\n",
       "    </tr>\n",
       "  </thead>\n",
       "  <tbody>\n",
       "    <tr>\n",
       "      <th>siren 042, lala lala</th>\n",
       "      <td>108.000</td>\n",
       "      <td>0.601</td>\n",
       "      <td>0.596</td>\n",
       "      <td>11</td>\n",
       "      <td>-7.373</td>\n",
       "      <td>1</td>\n",
       "      <td>0.0251</td>\n",
       "      <td>0.694000</td>\n",
       "      <td>0.00579</td>\n",
       "      <td>0.1070</td>\n",
       "      <td>0.457</td>\n",
       "      <td>4</td>\n",
       "      <td>161043</td>\n",
       "    </tr>\n",
       "    <tr>\n",
       "      <th>make me a song, eleanor friedberger</th>\n",
       "      <td>129.993</td>\n",
       "      <td>0.727</td>\n",
       "      <td>0.575</td>\n",
       "      <td>2</td>\n",
       "      <td>-8.295</td>\n",
       "      <td>1</td>\n",
       "      <td>0.0292</td>\n",
       "      <td>0.054800</td>\n",
       "      <td>0.01310</td>\n",
       "      <td>0.1230</td>\n",
       "      <td>0.622</td>\n",
       "      <td>4</td>\n",
       "      <td>332400</td>\n",
       "    </tr>\n",
       "    <tr>\n",
       "      <th>uprising, muse</th>\n",
       "      <td>128.019</td>\n",
       "      <td>0.602</td>\n",
       "      <td>0.905</td>\n",
       "      <td>2</td>\n",
       "      <td>-4.046</td>\n",
       "      <td>1</td>\n",
       "      <td>0.0775</td>\n",
       "      <td>0.000202</td>\n",
       "      <td>0.06400</td>\n",
       "      <td>0.1170</td>\n",
       "      <td>0.411</td>\n",
       "      <td>4</td>\n",
       "      <td>304840</td>\n",
       "    </tr>\n",
       "    <tr>\n",
       "      <th>time is running out, muse</th>\n",
       "      <td>118.211</td>\n",
       "      <td>0.585</td>\n",
       "      <td>0.842</td>\n",
       "      <td>9</td>\n",
       "      <td>-5.883</td>\n",
       "      <td>0</td>\n",
       "      <td>0.0556</td>\n",
       "      <td>0.002420</td>\n",
       "      <td>0.00686</td>\n",
       "      <td>0.0866</td>\n",
       "      <td>0.428</td>\n",
       "      <td>4</td>\n",
       "      <td>237040</td>\n",
       "    </tr>\n",
       "    <tr>\n",
       "      <th>knights of cydonia, muse</th>\n",
       "      <td>137.114</td>\n",
       "      <td>0.366</td>\n",
       "      <td>0.963</td>\n",
       "      <td>11</td>\n",
       "      <td>-5.301</td>\n",
       "      <td>0</td>\n",
       "      <td>0.1420</td>\n",
       "      <td>0.000273</td>\n",
       "      <td>0.01220</td>\n",
       "      <td>0.1150</td>\n",
       "      <td>0.211</td>\n",
       "      <td>4</td>\n",
       "      <td>366213</td>\n",
       "    </tr>\n",
       "  </tbody>\n",
       "</table>\n",
       "</div>"
      ],
      "text/plain": [
       "                                       tempo  danceability  energy  key  \\\n",
       "index                                                                     \n",
       "siren 042, lala lala                 108.000         0.601   0.596   11   \n",
       "make me a song, eleanor friedberger  129.993         0.727   0.575    2   \n",
       "uprising, muse                       128.019         0.602   0.905    2   \n",
       "time is running out, muse            118.211         0.585   0.842    9   \n",
       "knights of cydonia, muse             137.114         0.366   0.963   11   \n",
       "\n",
       "                                     loudness  mode  speechiness  \\\n",
       "index                                                              \n",
       "siren 042, lala lala                   -7.373     1       0.0251   \n",
       "make me a song, eleanor friedberger    -8.295     1       0.0292   \n",
       "uprising, muse                         -4.046     1       0.0775   \n",
       "time is running out, muse              -5.883     0       0.0556   \n",
       "knights of cydonia, muse               -5.301     0       0.1420   \n",
       "\n",
       "                                     acousticness  instrumentalness  liveness  \\\n",
       "index                                                                           \n",
       "siren 042, lala lala                     0.694000           0.00579    0.1070   \n",
       "make me a song, eleanor friedberger      0.054800           0.01310    0.1230   \n",
       "uprising, muse                           0.000202           0.06400    0.1170   \n",
       "time is running out, muse                0.002420           0.00686    0.0866   \n",
       "knights of cydonia, muse                 0.000273           0.01220    0.1150   \n",
       "\n",
       "                                     valence  time_signature  duration_ms  \n",
       "index                                                                      \n",
       "siren 042, lala lala                   0.457               4       161043  \n",
       "make me a song, eleanor friedberger    0.622               4       332400  \n",
       "uprising, muse                         0.411               4       304840  \n",
       "time is running out, muse              0.428               4       237040  \n",
       "knights of cydonia, muse               0.211               4       366213  "
      ]
     },
     "execution_count": 12,
     "metadata": {},
     "output_type": "execute_result"
    }
   ],
   "source": [
    "df.head()"
   ]
  },
  {
   "cell_type": "code",
   "execution_count": 13,
   "metadata": {
    "scrolled": true
   },
   "outputs": [],
   "source": [
    "ss = StandardScaler()\n",
    "data = ss.fit_transform(df)"
   ]
  },
  {
   "cell_type": "markdown",
   "metadata": {},
   "source": [
    "#### now I will create a dataframe with the transformmed features"
   ]
  },
  {
   "cell_type": "code",
   "execution_count": 14,
   "metadata": {
    "scrolled": true
   },
   "outputs": [
    {
     "data": {
      "text/plain": [
       "(1734, 13)"
      ]
     },
     "execution_count": 14,
     "metadata": {},
     "output_type": "execute_result"
    }
   ],
   "source": [
    "df= pd.DataFrame(data, columns =df.columns, index = df.index)\n",
    "df.shape"
   ]
  },
  {
   "cell_type": "code",
   "execution_count": 15,
   "metadata": {
    "scrolled": true
   },
   "outputs": [
    {
     "data": {
      "text/html": [
       "<div>\n",
       "<style scoped>\n",
       "    .dataframe tbody tr th:only-of-type {\n",
       "        vertical-align: middle;\n",
       "    }\n",
       "\n",
       "    .dataframe tbody tr th {\n",
       "        vertical-align: top;\n",
       "    }\n",
       "\n",
       "    .dataframe thead th {\n",
       "        text-align: right;\n",
       "    }\n",
       "</style>\n",
       "<table border=\"1\" class=\"dataframe\">\n",
       "  <thead>\n",
       "    <tr style=\"text-align: right;\">\n",
       "      <th></th>\n",
       "      <th>tempo</th>\n",
       "      <th>danceability</th>\n",
       "      <th>energy</th>\n",
       "      <th>key</th>\n",
       "      <th>loudness</th>\n",
       "      <th>mode</th>\n",
       "      <th>speechiness</th>\n",
       "      <th>acousticness</th>\n",
       "      <th>instrumentalness</th>\n",
       "      <th>liveness</th>\n",
       "      <th>valence</th>\n",
       "      <th>time_signature</th>\n",
       "      <th>duration_ms</th>\n",
       "    </tr>\n",
       "    <tr>\n",
       "      <th>index</th>\n",
       "      <th></th>\n",
       "      <th></th>\n",
       "      <th></th>\n",
       "      <th></th>\n",
       "      <th></th>\n",
       "      <th></th>\n",
       "      <th></th>\n",
       "      <th></th>\n",
       "      <th></th>\n",
       "      <th></th>\n",
       "      <th></th>\n",
       "      <th></th>\n",
       "      <th></th>\n",
       "    </tr>\n",
       "  </thead>\n",
       "  <tbody>\n",
       "    <tr>\n",
       "      <th>siren 042, lala lala</th>\n",
       "      <td>-0.50495</td>\n",
       "      <td>0.45834</td>\n",
       "      <td>-0.112834</td>\n",
       "      <td>1.722145</td>\n",
       "      <td>0.482366</td>\n",
       "      <td>0.570691</td>\n",
       "      <td>-0.546041</td>\n",
       "      <td>1.386794</td>\n",
       "      <td>-0.389266</td>\n",
       "      <td>-0.545219</td>\n",
       "      <td>-0.481937</td>\n",
       "      <td>0.231248</td>\n",
       "      <td>-0.882392</td>\n",
       "    </tr>\n",
       "  </tbody>\n",
       "</table>\n",
       "</div>"
      ],
      "text/plain": [
       "                        tempo  danceability    energy       key  loudness  \\\n",
       "index                                                                       \n",
       "siren 042, lala lala -0.50495       0.45834 -0.112834  1.722145  0.482366   \n",
       "\n",
       "                          mode  speechiness  acousticness  instrumentalness  \\\n",
       "index                                                                         \n",
       "siren 042, lala lala  0.570691    -0.546041      1.386794         -0.389266   \n",
       "\n",
       "                      liveness   valence  time_signature  duration_ms  \n",
       "index                                                                  \n",
       "siren 042, lala lala -0.545219 -0.481937        0.231248    -0.882392  "
      ]
     },
     "execution_count": 15,
     "metadata": {},
     "output_type": "execute_result"
    }
   ],
   "source": [
    "df.head(1)"
   ]
  },
  {
   "cell_type": "markdown",
   "metadata": {},
   "source": [
    "### I will save this dataframe as well, since this is where I will be looking for to create my pllaylist based on tempo"
   ]
  },
  {
   "cell_type": "code",
   "execution_count": 16,
   "metadata": {},
   "outputs": [],
   "source": [
    "df.to_csv('./Data/identifier.csv', index= True)"
   ]
  },
  {
   "cell_type": "markdown",
   "metadata": {},
   "source": [
    "#### now i'm going to use cosine similarity from sklearn, this is a meassure of similarity between two non-zero vectors, by meassuring the cosign of the angle between them. as we know cosine of 0° and 180° are 1 and -1 respectedly, and cosign of any other angle falls between the two, with cosine of 90° and 270° are both 0. therefore, we are comparing the possition of each item along the circle. this means two items taht are most simmilar will have an identical orientation and cosine simmilarity of 1, two items that have a 90° angle between their orientation will have a cosine simmilarity of 0, and if theyhave a cosine simmilarity of -1 then they are on the opposite sides of the spacterum, and will therefore have 180° angle between them. \n",
    "#### for this recomendation sysytem, we are assuming that each song is it's own vector, with unique features, we will create a recomendation system by comparing each song (vector) to every other song in a big matrix. "
   ]
  },
  {
   "cell_type": "code",
   "execution_count": 17,
   "metadata": {
    "scrolled": true
   },
   "outputs": [],
   "source": [
    "cs = cosine_similarity(df, df)"
   ]
  },
  {
   "cell_type": "code",
   "execution_count": 18,
   "metadata": {
    "scrolled": true
   },
   "outputs": [],
   "source": [
    "matrix = pd.DataFrame(cs, columns=df.index, index=df.index)"
   ]
  },
  {
   "cell_type": "code",
   "execution_count": 19,
   "metadata": {
    "scrolled": true
   },
   "outputs": [
    {
     "data": {
      "text/html": [
       "<div>\n",
       "<style scoped>\n",
       "    .dataframe tbody tr th:only-of-type {\n",
       "        vertical-align: middle;\n",
       "    }\n",
       "\n",
       "    .dataframe tbody tr th {\n",
       "        vertical-align: top;\n",
       "    }\n",
       "\n",
       "    .dataframe thead th {\n",
       "        text-align: right;\n",
       "    }\n",
       "</style>\n",
       "<table border=\"1\" class=\"dataframe\">\n",
       "  <thead>\n",
       "    <tr style=\"text-align: right;\">\n",
       "      <th>index</th>\n",
       "      <th>siren 042, lala lala</th>\n",
       "      <th>make me a song, eleanor friedberger</th>\n",
       "      <th>uprising, muse</th>\n",
       "      <th>time is running out, muse</th>\n",
       "      <th>knights of cydonia, muse</th>\n",
       "      <th>vicious, lou reed</th>\n",
       "      <th>like a hurricane - 2017 remaster, neil young</th>\n",
       "      <th>smile like you mean it, the killers</th>\n",
       "      <th>season of the witch, donovan</th>\n",
       "      <th>harvest moon, neil young</th>\n",
       "      <th>...</th>\n",
       "      <th>riders on the storm, the doors</th>\n",
       "      <th>you never can tell, chuck berry</th>\n",
       "      <th>you really got me - mono mix, the kinks</th>\n",
       "      <th>whole lotta love - 1990 remaster, led zeppelin</th>\n",
       "      <th>water under the bridge, adele</th>\n",
       "      <th>mannish boy, muddy waters</th>\n",
       "      <th>white rabbit, jefferson airplane</th>\n",
       "      <th>people are strange, the doors</th>\n",
       "      <th>valerie - live at bbc radio 1 live lounge, london / 2007, amy winehouse</th>\n",
       "      <th>fortunate son, creedence clearwater revival</th>\n",
       "    </tr>\n",
       "    <tr>\n",
       "      <th>index</th>\n",
       "      <th></th>\n",
       "      <th></th>\n",
       "      <th></th>\n",
       "      <th></th>\n",
       "      <th></th>\n",
       "      <th></th>\n",
       "      <th></th>\n",
       "      <th></th>\n",
       "      <th></th>\n",
       "      <th></th>\n",
       "      <th></th>\n",
       "      <th></th>\n",
       "      <th></th>\n",
       "      <th></th>\n",
       "      <th></th>\n",
       "      <th></th>\n",
       "      <th></th>\n",
       "      <th></th>\n",
       "      <th></th>\n",
       "      <th></th>\n",
       "      <th></th>\n",
       "    </tr>\n",
       "  </thead>\n",
       "  <tbody>\n",
       "    <tr>\n",
       "      <th>siren 042, lala lala</th>\n",
       "      <td>1.0</td>\n",
       "      <td>-0.311383</td>\n",
       "      <td>-0.286814</td>\n",
       "      <td>0.111002</td>\n",
       "      <td>-0.083149</td>\n",
       "      <td>-0.241955</td>\n",
       "      <td>-0.187183</td>\n",
       "      <td>-0.350366</td>\n",
       "      <td>-0.26267</td>\n",
       "      <td>0.098482</td>\n",
       "      <td>...</td>\n",
       "      <td>0.020727</td>\n",
       "      <td>0.183704</td>\n",
       "      <td>0.161542</td>\n",
       "      <td>-0.20714</td>\n",
       "      <td>-0.121297</td>\n",
       "      <td>-0.297464</td>\n",
       "      <td>0.274764</td>\n",
       "      <td>0.217554</td>\n",
       "      <td>0.35286</td>\n",
       "      <td>-0.142514</td>\n",
       "    </tr>\n",
       "  </tbody>\n",
       "</table>\n",
       "<p>1 rows × 1734 columns</p>\n",
       "</div>"
      ],
      "text/plain": [
       "index                 siren 042, lala lala  \\\n",
       "index                                        \n",
       "siren 042, lala lala                   1.0   \n",
       "\n",
       "index                 make me a song, eleanor friedberger  uprising, muse  \\\n",
       "index                                                                       \n",
       "siren 042, lala lala                            -0.311383       -0.286814   \n",
       "\n",
       "index                 time is running out, muse  knights of cydonia, muse  \\\n",
       "index                                                                       \n",
       "siren 042, lala lala                   0.111002                 -0.083149   \n",
       "\n",
       "index                 vicious, lou reed  \\\n",
       "index                                     \n",
       "siren 042, lala lala          -0.241955   \n",
       "\n",
       "index                 like a hurricane - 2017 remaster, neil young  \\\n",
       "index                                                                \n",
       "siren 042, lala lala                                     -0.187183   \n",
       "\n",
       "index                 smile like you mean it, the killers  \\\n",
       "index                                                       \n",
       "siren 042, lala lala                            -0.350366   \n",
       "\n",
       "index                 season of the witch, donovan  harvest moon, neil young  \\\n",
       "index                                                                          \n",
       "siren 042, lala lala                      -0.26267                  0.098482   \n",
       "\n",
       "index                 ...  riders on the storm, the doors  \\\n",
       "index                 ...                                   \n",
       "siren 042, lala lala  ...                        0.020727   \n",
       "\n",
       "index                 you never can tell, chuck berry  \\\n",
       "index                                                   \n",
       "siren 042, lala lala                         0.183704   \n",
       "\n",
       "index                 you really got me - mono mix, the kinks  \\\n",
       "index                                                           \n",
       "siren 042, lala lala                                 0.161542   \n",
       "\n",
       "index                 whole lotta love - 1990 remaster, led zeppelin  \\\n",
       "index                                                                  \n",
       "siren 042, lala lala                                        -0.20714   \n",
       "\n",
       "index                 water under the bridge, adele  \\\n",
       "index                                                 \n",
       "siren 042, lala lala                      -0.121297   \n",
       "\n",
       "index                 mannish boy, muddy waters  \\\n",
       "index                                             \n",
       "siren 042, lala lala                  -0.297464   \n",
       "\n",
       "index                 white rabbit, jefferson airplane  \\\n",
       "index                                                    \n",
       "siren 042, lala lala                          0.274764   \n",
       "\n",
       "index                 people are strange, the doors  \\\n",
       "index                                                 \n",
       "siren 042, lala lala                       0.217554   \n",
       "\n",
       "index                 valerie - live at bbc radio 1 live lounge, london / 2007, amy winehouse  \\\n",
       "index                                                                                           \n",
       "siren 042, lala lala                                            0.35286                         \n",
       "\n",
       "index                 fortunate son, creedence clearwater revival  \n",
       "index                                                              \n",
       "siren 042, lala lala                                    -0.142514  \n",
       "\n",
       "[1 rows x 1734 columns]"
      ]
     },
     "execution_count": 19,
     "metadata": {},
     "output_type": "execute_result"
    }
   ],
   "source": [
    "matrix.head(1)"
   ]
  },
  {
   "cell_type": "markdown",
   "metadata": {},
   "source": [
    "***as you can see the first song in my dataframe has a cosine similarity of 1 with itself, which proves that it is identical to itself!***"
   ]
  },
  {
   "cell_type": "markdown",
   "metadata": {},
   "source": [
    "### now I need a function to take any song of choice and retun 20 closest songs, I will sort them by tempo, because it just makes sence, and I will have the fist 10 raising in tempo and the next 10 decsending, because a playlist is like a roller coaster, if it goes up, it must come down, or i'm not riding! "
   ]
  },
  {
   "cell_type": "code",
   "execution_count": 20,
   "metadata": {
    "scrolled": true
   },
   "outputs": [],
   "source": [
    "def play_list(choice):\n",
    "    list_of_recoms =[]\n",
    "    uri= []\n",
    "    \n",
    "    \n",
    "    for song in df.loc[df.index.str.contains(choice)].sort_values(by='tempo').index:\n",
    "        list_of_recoms.append(matrix[song].sort_values(ascending = False)[0:10])\n",
    "        list_of_recoms.append(matrix[song].sort_values(ascending = False)[19:9:-1])        \n",
    "        recom= pd.DataFrame(list_of_recoms).T\n",
    "        recom= recom.drop(columns=choice)\n",
    "        return recom"
   ]
  },
  {
   "cell_type": "code",
   "execution_count": 21,
   "metadata": {
    "scrolled": false
   },
   "outputs": [
    {
     "data": {
      "text/html": [
       "<div>\n",
       "<style scoped>\n",
       "    .dataframe tbody tr th:only-of-type {\n",
       "        vertical-align: middle;\n",
       "    }\n",
       "\n",
       "    .dataframe tbody tr th {\n",
       "        vertical-align: top;\n",
       "    }\n",
       "\n",
       "    .dataframe thead th {\n",
       "        text-align: right;\n",
       "    }\n",
       "</style>\n",
       "<table border=\"1\" class=\"dataframe\">\n",
       "  <thead>\n",
       "    <tr style=\"text-align: right;\">\n",
       "      <th></th>\n",
       "    </tr>\n",
       "  </thead>\n",
       "  <tbody>\n",
       "    <tr>\n",
       "      <th>harvest moon, neil young</th>\n",
       "    </tr>\n",
       "    <tr>\n",
       "      <th>everyday i have the blues, b.b. king</th>\n",
       "    </tr>\n",
       "    <tr>\n",
       "      <th>season of the witch, lana del rey</th>\n",
       "    </tr>\n",
       "    <tr>\n",
       "      <th>everyday people, jeff buckley</th>\n",
       "    </tr>\n",
       "    <tr>\n",
       "      <th>courage, villagers</th>\n",
       "    </tr>\n",
       "    <tr>\n",
       "      <th>stuck inside of mobile with the memphis blues again - take 13, alternate take, bob dylan</th>\n",
       "    </tr>\n",
       "    <tr>\n",
       "      <th>pale blue eyes - closet mix, the velvet underground</th>\n",
       "    </tr>\n",
       "    <tr>\n",
       "      <th>pale blue eyes, the velvet underground</th>\n",
       "    </tr>\n",
       "    <tr>\n",
       "      <th>le naufragé, voyou</th>\n",
       "    </tr>\n",
       "    <tr>\n",
       "      <th>changes - 2015 remaster, david bowie</th>\n",
       "    </tr>\n",
       "    <tr>\n",
       "      <th>ten years gone - 1990 remaster, led zeppelin</th>\n",
       "    </tr>\n",
       "    <tr>\n",
       "      <th>it's alright, ma (i'm only bleeding), bob dylan</th>\n",
       "    </tr>\n",
       "    <tr>\n",
       "      <th>cars hiss by my window, the doors</th>\n",
       "    </tr>\n",
       "    <tr>\n",
       "      <th>a case of you, joni mitchell</th>\n",
       "    </tr>\n",
       "    <tr>\n",
       "      <th>these are the days of our lives - 2011 remaster, queen</th>\n",
       "    </tr>\n",
       "    <tr>\n",
       "      <th>under pressure, queen</th>\n",
       "    </tr>\n",
       "    <tr>\n",
       "      <th>chaleur humaine, christine and the queens</th>\n",
       "    </tr>\n",
       "    <tr>\n",
       "      <th>hey you - 2011 remastered version, pink floyd</th>\n",
       "    </tr>\n",
       "    <tr>\n",
       "      <th>some kinda love - closet mix, the velvet underground</th>\n",
       "    </tr>\n",
       "    <tr>\n",
       "      <th>these are the days of our lives, queen</th>\n",
       "    </tr>\n",
       "  </tbody>\n",
       "</table>\n",
       "</div>"
      ],
      "text/plain": [
       "Empty DataFrame\n",
       "Columns: []\n",
       "Index: [harvest moon, neil young, everyday i have the blues, b.b. king, season of the witch, lana del rey, everyday people, jeff buckley, courage, villagers, stuck inside of mobile with the memphis blues again - take 13, alternate take, bob dylan, pale blue eyes - closet mix, the velvet underground, pale blue eyes, the velvet underground, le naufragé, voyou, changes - 2015 remaster, david bowie, ten years gone - 1990 remaster, led zeppelin, it's alright, ma (i'm only bleeding), bob dylan, cars hiss by my window, the doors, a case of you, joni mitchell, these are the days of our lives - 2011 remaster, queen, under pressure, queen, chaleur humaine, christine and the queens, hey you - 2011 remastered version, pink floyd, some kinda love - closet mix, the velvet underground, these are the days of our lives, queen]"
      ]
     },
     "execution_count": 21,
     "metadata": {},
     "output_type": "execute_result"
    }
   ],
   "source": [
    "play_list('harvest moon, neil young')"
   ]
  },
  {
   "cell_type": "markdown",
   "metadata": {},
   "source": [
    "#### lastly I will save my recomender matrix as a dataframe so I can create playlists on top of it "
   ]
  },
  {
   "cell_type": "code",
   "execution_count": 22,
   "metadata": {},
   "outputs": [],
   "source": [
    "matrix.to_csv('./Data/recommender.csv', index= True)"
   ]
  }
 ],
 "metadata": {
  "kernelspec": {
   "display_name": "Python 3",
   "language": "python",
   "name": "python3"
  },
  "language_info": {
   "codemirror_mode": {
    "name": "ipython",
    "version": 3
   },
   "file_extension": ".py",
   "mimetype": "text/x-python",
   "name": "python",
   "nbconvert_exporter": "python",
   "pygments_lexer": "ipython3",
   "version": "3.7.6"
  }
 },
 "nbformat": 4,
 "nbformat_minor": 4
}
